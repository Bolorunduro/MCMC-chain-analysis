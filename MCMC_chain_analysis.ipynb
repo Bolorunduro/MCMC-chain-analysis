{
 "cells": [
  {
   "cell_type": "markdown",
   "metadata": {
    "deletable": true,
    "editable": true
   },
   "source": [
    "MCMC chain analysis\n",
    "==========="
   ]
  },
  {
   "cell_type": "code",
   "execution_count": 26,
   "metadata": {
    "collapsed": true,
    "deletable": true,
    "editable": true
   },
   "outputs": [],
   "source": [
    "%matplotlib inline\n",
    "import numpy as np"
   ]
  },
  {
   "cell_type": "markdown",
   "metadata": {
    "deletable": true,
    "editable": true
   },
   "source": [
    "The first thing we need to do is open the chain file."
   ]
  },
  {
   "cell_type": "code",
   "execution_count": 27,
   "metadata": {
    "collapsed": false,
    "deletable": true,
    "editable": true
   },
   "outputs": [
    {
     "name": "stdout",
     "output_type": "stream",
     "text": [
      "40000\n"
     ]
    }
   ],
   "source": [
    "raw = np.loadtxt('chain.dat');\n",
    "shape = raw.size\n",
    "print(shape)\n",
    "    "
   ]
  },
  {
   "cell_type": "markdown",
   "metadata": {
    "deletable": true,
    "editable": true
   },
   "source": [
    "We know that the model has two parameters, so we need to reshape the chain, and find out how many steps were taken"
   ]
  },
  {
   "cell_type": "code",
   "execution_count": 28,
   "metadata": {
    "collapsed": false,
    "deletable": true,
    "editable": true
   },
   "outputs": [
    {
     "name": "stdout",
     "output_type": "stream",
     "text": [
      "20000.0\n"
     ]
    }
   ],
   "source": [
    "save_dim = 2\n",
    "num_steps = shape/(save_dim)\n",
    "print(num_steps)"
   ]
  },
  {
   "cell_type": "markdown",
   "metadata": {
    "deletable": true,
    "editable": true
   },
   "source": [
    "Now we need to reshape the chain into something that we can use"
   ]
  },
  {
   "cell_type": "code",
   "execution_count": 29,
   "metadata": {
    "collapsed": false,
    "deletable": true,
    "editable": true
   },
   "outputs": [
    {
     "name": "stdout",
     "output_type": "stream",
     "text": [
      "(20000, 2)\n"
     ]
    },
    {
     "name": "stderr",
     "output_type": "stream",
     "text": [
      "/Users/davidparkinson/Library/Enthought/Canopy/edm/envs/User/lib/python3.5/site-packages/ipykernel/__main__.py:1: VisibleDeprecationWarning: using a non-integer number instead of an integer will result in an error in the future\n",
      "  if __name__ == '__main__':\n"
     ]
    }
   ],
   "source": [
    "chain = raw.reshape(num_steps,save_dim)\n",
    "print(chain.shape)"
   ]
  },
  {
   "cell_type": "markdown",
   "metadata": {
    "deletable": true,
    "editable": true
   },
   "source": [
    "Now we can compute some summary statistics. Maybe we can look at the mean of the parameters"
   ]
  },
  {
   "cell_type": "code",
   "execution_count": 30,
   "metadata": {
    "collapsed": false,
    "deletable": true,
    "editable": true
   },
   "outputs": [
    {
     "name": "stdout",
     "output_type": "stream",
     "text": [
      "Mean (x) =    0.121, Mean (y) =    1.450\n"
     ]
    }
   ],
   "source": [
    "mean_x = np.mean(chain[:,0])\n",
    "mean_y = np.mean(chain[:,1])\n",
    "print(\"Mean (x) = {0:8.3f}, Mean (y) = {1:8.3f}\".format(mean_x, mean_y))"
   ]
  },
  {
   "cell_type": "markdown",
   "metadata": {
    "deletable": true,
    "editable": true
   },
   "source": [
    "And the standard deviations\n"
   ]
  },
  {
   "cell_type": "code",
   "execution_count": 31,
   "metadata": {
    "collapsed": false,
    "deletable": true,
    "editable": true
   },
   "outputs": [
    {
     "name": "stdout",
     "output_type": "stream",
     "text": [
      "Std dev (x) =    6.495, Std dev (y) =   13.028\n"
     ]
    }
   ],
   "source": [
    "var_x = np.var(chain[:,0])\n",
    "var_y = np.var(chain[:,1])\n",
    "print(\"Std dev (x) = {0:8.3f}, Std dev (y) = {1:8.3f}\".format(np.sqrt(var_x), np.sqrt(var_y)))"
   ]
  },
  {
   "cell_type": "markdown",
   "metadata": {
    "deletable": true,
    "editable": true
   },
   "source": [
    "The true best fit value for x and y are x=0.762 and y=-0.438556, and the errors on the two should be 0.12523 and 0.56687. What has gone wrong here?"
   ]
  },
  {
   "cell_type": "markdown",
   "metadata": {
    "deletable": true,
    "editable": true
   },
   "source": [
    "Burn-in\n",
    "------"
   ]
  },
  {
   "cell_type": "markdown",
   "metadata": {
    "collapsed": true,
    "deletable": true,
    "editable": true
   },
   "source": [
    "The samples are meant to represent the distribution of probabilities for the parameters. But if the chain starts in a very low probability region, the initial chain elements will not be representative of the final distribution."
   ]
  },
  {
   "cell_type": "code",
   "execution_count": 32,
   "metadata": {
    "collapsed": false
   },
   "outputs": [
    {
     "data": {
      "text/plain": [
       "<matplotlib.text.Text at 0x120db6ba8>"
      ]
     },
     "execution_count": 32,
     "metadata": {},
     "output_type": "execute_result"
    },
    {
     "data": {
      "image/png": "[encoded data removed]",
      "text/plain": [
       "<matplotlib.figure.Figure at 0x120c3ad30>"
      ]
     },
     "metadata": {},
     "output_type": "display_data"
    }
   ],
   "source": [
    "index = np.arange(0,num_steps)\n",
    "import matplotlib.pyplot as plt\n",
    "plt.plot(index,chain[:,0])\n",
    "plt.xlabel('Position in chain')\n",
    "plt.ylabel('x')"
   ]
  },
  {
   "cell_type": "code",
   "execution_count": 33,
   "metadata": {
    "collapsed": false
   },
   "outputs": [
    {
     "data": {
      "text/plain": [
       "<matplotlib.text.Text at 0x120b19c18>"
      ]
     },
     "execution_count": 33,
     "metadata": {},
     "output_type": "execute_result"
    },
    {
     "data": {
      "image/png": "[encoded data removed]",
      "text/plain": [
       "<matplotlib.figure.Figure at 0x120b6ceb8>"
      ]
     },
     "metadata": {},
     "output_type": "display_data"
    }
   ],
   "source": [
    "plt.plot(index,chain[:,1])\n",
    "plt.xlabel('index')\n",
    "plt.ylabel('y')"
   ]
  },
  {
   "cell_type": "markdown",
   "metadata": {},
   "source": [
    "We see here that the first few hundred chain elements are composed of this 'burn-in' phase. We cut the first 1000 chain elements"
   ]
  },
  {
   "cell_type": "code",
   "execution_count": 34,
   "metadata": {
    "collapsed": false
   },
   "outputs": [
    {
     "data": {
      "text/plain": [
       "[<matplotlib.lines.Line2D at 0x120dc3b00>]"
      ]
     },
     "execution_count": 34,
     "metadata": {},
     "output_type": "execute_result"
    },
    {
     "data": {
      "image/png": "[encoded data removed]",
      "text/plain": [
       "<matplotlib.figure.Figure at 0x120d9d240>"
      ]
     },
     "metadata": {},
     "output_type": "display_data"
    }
   ],
   "source": [
    "burn_in_index = 1000\n",
    "burn_in_chain=chain[burn_in_index:,:]\n",
    "burn_in_index=np.arange(0,num_steps-burn_in_index)\n",
    "import matplotlib.pyplot as plt\n",
    "plt.plot(burn_in_index,burn_in_chain[:,0])"
   ]
  },
  {
   "cell_type": "code",
   "execution_count": 35,
   "metadata": {
    "collapsed": false
   },
   "outputs": [
    {
     "data": {
      "text/plain": [
       "[<matplotlib.lines.Line2D at 0x120e62518>]"
      ]
     },
     "execution_count": 35,
     "metadata": {},
     "output_type": "execute_result"
    },
    {
     "data": {
      "image/png": "[encoded data removed]",
      "text/plain": [
       "<matplotlib.figure.Figure at 0x120c3cd68>"
      ]
     },
     "metadata": {},
     "output_type": "display_data"
    }
   ],
   "source": [
    "plt.plot(burn_in_index,burn_in_chain[:,1])"
   ]
  },
  {
   "cell_type": "markdown",
   "metadata": {},
   "source": [
    "We now recompute the mean and variance"
   ]
  },
  {
   "cell_type": "code",
   "execution_count": 36,
   "metadata": {
    "collapsed": false
   },
   "outputs": [
    {
     "name": "stdout",
     "output_type": "stream",
     "text": [
      "Mean (x) =    0.767, Mean (y) =   -0.438\n"
     ]
    }
   ],
   "source": [
    "burn_in_mean_x = np.mean(burn_in_chain[:,0])\n",
    "burn_in_mean_y = np.mean(burn_in_chain[:,1])\n",
    "print(\"Mean (x) = {0:8.3f}, Mean (y) = {1:8.3f}\".format(burn_in_mean_x, burn_in_mean_y))"
   ]
  },
  {
   "cell_type": "markdown",
   "metadata": {},
   "source": [
    "These values area much closer to the input model values of x = 0.762 and y = -0.438556,"
   ]
  },
  {
   "cell_type": "code",
   "execution_count": 37,
   "metadata": {
    "collapsed": false
   },
   "outputs": [
    {
     "name": "stdout",
     "output_type": "stream",
     "text": [
      "Std dev (x) =    0.126, Std dev (y) =    0.550\n"
     ]
    }
   ],
   "source": [
    "burn_in_var_x = np.var(burn_in_chain[:,0])\n",
    "burn_in_var_y = np.var(burn_in_chain[:,1])\n",
    "print(\"Std dev (x) = {0:8.3f}, Std dev (y) = {1:8.3f}\".format(np.sqrt(burn_in_var_x), np.sqrt(burn_in_var_y)))"
   ]
  },
  {
   "cell_type": "markdown",
   "metadata": {},
   "source": [
    "These error values are much closer to the input values of errors, which are 0.12523 and 0.56687"
   ]
  },
  {
   "cell_type": "markdown",
   "metadata": {},
   "source": [
    "# Probability distribution"
   ]
  },
  {
   "cell_type": "markdown",
   "metadata": {},
   "source": [
    "The distribution of chain elements gives us the distribution of probabilities associated with each parameter. So we can histogram the chain "
   ]
  },
  {
   "cell_type": "code",
   "execution_count": 38,
   "metadata": {
    "collapsed": false
   },
   "outputs": [
    {
     "data": {
      "text/plain": [
       "<matplotlib.text.Text at 0x120be52b0>"
      ]
     },
     "execution_count": 38,
     "metadata": {},
     "output_type": "execute_result"
    },
    {
     "data": {
      "image/png": "[encoded data removed]",
      "text/plain": [
       "<matplotlib.figure.Figure at 0x120c7f6a0>"
      ]
     },
     "metadata": {},
     "output_type": "display_data"
    }
   ],
   "source": [
    "h_x = plt.hist(burn_in_chain[:,0],bins=40)\n",
    "plt.xlabel('x')"
   ]
  },
  {
   "cell_type": "code",
   "execution_count": 39,
   "metadata": {
    "collapsed": false
   },
   "outputs": [
    {
     "name": "stdout",
     "output_type": "stream",
     "text": [
      "(array([  2.00000000e+00,   7.00000000e+00,   9.00000000e+00,\n",
      "         0.00000000e+00,   4.20000000e+01,   1.00000000e+01,\n",
      "         4.40000000e+01,   8.10000000e+01,   1.22000000e+02,\n",
      "         2.52000000e+02,   2.63000000e+02,   3.44000000e+02,\n",
      "         4.16000000e+02,   5.28000000e+02,   6.40000000e+02,\n",
      "         1.00800000e+03,   1.20300000e+03,   1.29900000e+03,\n",
      "         1.35300000e+03,   1.39100000e+03,   1.05500000e+03,\n",
      "         1.04100000e+03,   1.52300000e+03,   9.81000000e+02,\n",
      "         1.00200000e+03,   9.54000000e+02,   8.09000000e+02,\n",
      "         7.46000000e+02,   5.80000000e+02,   4.50000000e+02,\n",
      "         2.94000000e+02,   1.67000000e+02,   1.65000000e+02,\n",
      "         9.20000000e+01,   7.60000000e+01,   2.60000000e+01,\n",
      "         1.30000000e+01,   7.00000000e+00,   1.00000000e+00,\n",
      "         4.00000000e+00]), array([ 0.30170197,  0.3242237 ,  0.34674544,  0.36926718,  0.39178892,\n",
      "        0.41431065,  0.43683239,  0.45935413,  0.48187587,  0.50439761,\n",
      "        0.52691934,  0.54944108,  0.57196282,  0.59448456,  0.61700629,\n",
      "        0.63952803,  0.66204977,  0.68457151,  0.70709324,  0.72961498,\n",
      "        0.75213672,  0.77465846,  0.79718019,  0.81970193,  0.84222367,\n",
      "        0.86474541,  0.88726715,  0.90978888,  0.93231062,  0.95483236,\n",
      "        0.9773541 ,  0.99987583,  1.02239757,  1.04491931,  1.06744105,\n",
      "        1.08996278,  1.11248452,  1.13500626,  1.157528  ,  1.18004973,\n",
      "        1.20257147]), <a list of 40 Patch objects>)\n"
     ]
    }
   ],
   "source": [
    "print(h_x)"
   ]
  },
  {
   "cell_type": "code",
   "execution_count": 40,
   "metadata": {
    "collapsed": false
   },
   "outputs": [
    {
     "data": {
      "text/plain": [
       "<matplotlib.text.Text at 0x120eec1d0>"
      ]
     },
     "execution_count": 40,
     "metadata": {},
     "output_type": "execute_result"
    },
    {
     "data": {
      "image/png": "[encoded data removed]",
      "text/plain": [
       "<matplotlib.figure.Figure at 0x120fa27f0>"
      ]
     },
     "metadata": {},
     "output_type": "display_data"
    }
   ],
   "source": [
    "h_y = plt.hist(burn_in_chain[:,1],bins=40)\n",
    "plt.xlabel('y')"
   ]
  },
  {
   "cell_type": "markdown",
   "metadata": {},
   "source": [
    "As you can see, this histogram is slightly noisy. There are two ways to increase the accuracy of the curve, a longer chain (with more MCMC samples) or some smoothing."
   ]
  },
  {
   "cell_type": "code",
   "execution_count": 51,
   "metadata": {
    "collapsed": false
   },
   "outputs": [],
   "source": [
    "from scipy import signal\n",
    "h_new = signal.medfilt(h_x[0],5)\n",
    "h_y_new = signal.medfilt(h_y[0],5)"
   ]
  },
  {
   "cell_type": "code",
   "execution_count": 52,
   "metadata": {
    "collapsed": false
   },
   "outputs": [
    {
     "name": "stdout",
     "output_type": "stream",
     "text": [
      "[  2.00000000e+00   2.00000000e+00   7.00000000e+00   9.00000000e+00\n",
      "   1.00000000e+01   4.20000000e+01   4.40000000e+01   8.10000000e+01\n",
      "   1.22000000e+02   2.52000000e+02   2.63000000e+02   3.44000000e+02\n",
      "   4.16000000e+02   5.28000000e+02   6.40000000e+02   1.00800000e+03\n",
      "   1.20300000e+03   1.29900000e+03   1.29900000e+03   1.29900000e+03\n",
      "   1.35300000e+03   1.05500000e+03   1.04100000e+03   1.00200000e+03\n",
      "   9.81000000e+02   9.54000000e+02   8.09000000e+02   7.46000000e+02\n",
      "   5.80000000e+02   4.50000000e+02   2.94000000e+02   1.67000000e+02\n",
      "   1.65000000e+02   9.20000000e+01   7.60000000e+01   2.60000000e+01\n",
      "   1.30000000e+01   7.00000000e+00   4.00000000e+00   1.00000000e+00]\n"
     ]
    }
   ],
   "source": [
    "print(h_new)"
   ]
  },
  {
   "cell_type": "code",
   "execution_count": 53,
   "metadata": {
    "collapsed": false
   },
   "outputs": [
    {
     "name": "stdout",
     "output_type": "stream",
     "text": [
      "[ 0.30170197  0.3242237   0.34674544  0.36926718  0.39178892  0.41431065\n",
      "  0.43683239  0.45935413  0.48187587  0.50439761  0.52691934  0.54944108\n",
      "  0.57196282  0.59448456  0.61700629  0.63952803  0.66204977  0.68457151\n",
      "  0.70709324  0.72961498  0.75213672  0.77465846  0.79718019  0.81970193\n",
      "  0.84222367  0.86474541  0.88726715  0.90978888  0.93231062  0.95483236\n",
      "  0.9773541   0.99987583  1.02239757  1.04491931  1.06744105  1.08996278\n",
      "  1.11248452  1.13500626  1.157528    1.18004973  1.20257147]\n"
     ]
    }
   ],
   "source": [
    "print(h_x[1])"
   ]
  },
  {
   "cell_type": "code",
   "execution_count": 54,
   "metadata": {
    "collapsed": false
   },
   "outputs": [
    {
     "data": {
      "text/plain": [
       "[<matplotlib.lines.Line2D at 0x122af2d68>]"
      ]
     },
     "execution_count": 54,
     "metadata": {},
     "output_type": "execute_result"
    },
    {
     "data": {
      "image/png": "[encoded data removed]",
      "text/plain": [
       "<matplotlib.figure.Figure at 0x1229fc390>"
      ]
     },
     "metadata": {},
     "output_type": "display_data"
    }
   ],
   "source": [
    "bins = []\n",
    "len_x = len(h_x[1])\n",
    "for i in range(1,len_x):\n",
    "    bin_position = h_x[1][i-1]+(h_x[1][i]-h_x[1][i-1])/2.0\n",
    "    bins.append(bin_position)\n",
    "plt.plot(bins,h_new)"
   ]
  },
  {
   "cell_type": "code",
   "execution_count": 55,
   "metadata": {
    "collapsed": false
   },
   "outputs": [
    {
     "data": {
      "text/plain": [
       "[<matplotlib.lines.Line2D at 0x122d8a2e8>]"
      ]
     },
     "execution_count": 55,
     "metadata": {},
     "output_type": "execute_result"
    },
    {
     "data": {
      "image/png": "[encoded data removed]",
      "text/plain": [
       "<matplotlib.figure.Figure at 0x122afe128>"
      ]
     },
     "metadata": {},
     "output_type": "display_data"
    }
   ],
   "source": [
    "bins = []\n",
    "len_y = len(h_y[1])\n",
    "for i in range(1,len_y):\n",
    "    bin_position = h_y[1][i-1]+(h_y[1][i]-h_y[1][i-1])/2.0\n",
    "    bins.append(bin_position)\n",
    "plt.plot(bins,h_y_new)"
   ]
  },
  {
   "cell_type": "code",
   "execution_count": null,
   "metadata": {
    "collapsed": true
   },
   "outputs": [],
   "source": []
  }
 ],
 "metadata": {
  "kernelspec": {
   "display_name": "Python 3",
   "language": "python",
   "name": "python3"
  },
  "language_info": {
   "codemirror_mode": {
    "name": "ipython",
    "version": 3
   },
   "file_extension": ".py",
   "mimetype": "text/x-python",
   "name": "python",
   "nbconvert_exporter": "python",
   "pygments_lexer": "ipython3",
   "version": "3.5.2"
  }
 },
 "nbformat": 4,
 "nbformat_minor": 2
}
